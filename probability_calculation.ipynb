{
 "cells": [
  {
   "cell_type": "code",
   "execution_count": 169,
   "metadata": {},
   "outputs": [],
   "source": [
    "import numpy as np\n",
    "import random"
   ]
  },
  {
   "cell_type": "markdown",
   "metadata": {},
   "source": [
    "### Rolling two dice together :\n",
    "\n",
    "* Get the probaility two dice total being even.\n",
    "* OR \n",
    "* Their total is greater than 7."
   ]
  },
  {
   "cell_type": "code",
   "execution_count": 170,
   "metadata": {},
   "outputs": [
    {
     "data": {
      "text/plain": [
       "0.675"
      ]
     },
     "execution_count": 170,
     "metadata": {},
     "output_type": "execute_result"
    }
   ],
   "source": [
    "def roll_the_dice(n_simulation = 100000):\n",
    "    count =0\n",
    "    \n",
    "    for i in range(n_simulation):\n",
    "        #roll each dice\n",
    "        die1 = random.randint(1,6)\n",
    "        die2 = random.randint(1,6)\n",
    "        \n",
    "        #sum the value to get the score\n",
    "        score = (die1+die2)\n",
    "        \n",
    "        #decide if we should add it to the count\n",
    "        if( (score % 2 == 0) or (score > 7)):\n",
    "            count += 1\n",
    "            \n",
    "    return count/n_simulation\n",
    "\n",
    "roll_the_dice(1000)"
   ]
  },
  {
   "cell_type": "markdown",
   "metadata": {},
   "source": [
    "### From a choicelist of 'A' and 'B' :\n",
    "\n",
    "* Find the probability of selecting 'A' and 'B' all together from two different choicelist.\n"
   ]
  },
  {
   "cell_type": "code",
   "execution_count": 171,
   "metadata": {},
   "outputs": [
    {
     "name": "stdout",
     "output_type": "stream",
     "text": [
      "0.2461\n"
     ]
    }
   ],
   "source": [
    "import random\n",
    "trails = 10000\n",
    "totalA = 12\n",
    "totalB = 18\n",
    "\n",
    "success = 0\n",
    "\n",
    "choicelist = list(\"A\" * totalA + \"B\" * totalB)\n",
    "#print(choicelist)\n",
    "\n",
    "def transistor():\n",
    "    return random.choice(choicelist)\n",
    "\n",
    "for i in range(trails):\n",
    "    try1 = transistor()\n",
    "    try2 = transistor()\n",
    "    \n",
    "    if(try1 == \"A\" and try2 == \"B\"):\n",
    "        success += 1\n",
    "        \n",
    "print(float(success)/ trails)"
   ]
  },
  {
   "cell_type": "markdown",
   "metadata": {},
   "source": [
    "### Tossing a fair coin multiple times\n",
    "\n",
    "* When tossing the fair coin **10** times we get **4 heads.**"
   ]
  },
  {
   "cell_type": "code",
   "execution_count": 172,
   "metadata": {},
   "outputs": [
    {
     "name": "stdout",
     "output_type": "stream",
     "text": [
      "When tossing the fair coin 10 times we get :  4\n"
     ]
    }
   ],
   "source": [
    "#set the seed to get same random numer\n",
    "np.random.seed(42)\n",
    "\n",
    "n, p =10, 0.5\n",
    "prob_h = np.random.binomial(n, p)\n",
    "\n",
    "print('When tossing the fair coin 10 times we get : ', prob_h)"
   ]
  },
  {
   "cell_type": "markdown",
   "metadata": {},
   "source": [
    "* Let's us repeat our experiment for **100 times**"
   ]
  },
  {
   "cell_type": "code",
   "execution_count": 173,
   "metadata": {},
   "outputs": [
    {
     "name": "stdout",
     "output_type": "stream",
     "text": [
      "We get the number of heads in each experiment : \n",
      "[4 8 6 5 3 3 3 7 5 6 2 8 7 4 4 4 4 5 5 4 5 3 4 4 5 6 4 5 5 2 5 3 3 8 8 6 4\n",
      " 3 6 5 3 5 2 7 4 6 4 5 5 4 8 6 7 7 5 7 3 4 2 4 5 4 7 4 4 5 3 6 3 8 6 4 1 6\n",
      " 6 6 6 3 4 3 7 6 4 3 4 4 6 6 7 5 3 6 6 5 6 5 5 5 2 3]\n"
     ]
    }
   ],
   "source": [
    "#set the seed to get same random numer\n",
    "np.random.seed(42)\n",
    "\n",
    "n=10\n",
    "p=0.5\n",
    "size=100\n",
    "\n",
    "prob_h_100 = np.random.binomial(n=n, p=p, size=size)\n",
    "print('We get the number of heads in each experiment : ')\n",
    "print(prob_h_100)"
   ]
  }
 ],
 "metadata": {
  "kernelspec": {
   "display_name": "Python 3",
   "language": "python",
   "name": "python3"
  },
  "language_info": {
   "codemirror_mode": {
    "name": "ipython",
    "version": 3
   },
   "file_extension": ".py",
   "mimetype": "text/x-python",
   "name": "python",
   "nbconvert_exporter": "python",
   "pygments_lexer": "ipython3",
   "version": "3.6.5"
  }
 },
 "nbformat": 4,
 "nbformat_minor": 2
}
